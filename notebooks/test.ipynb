{
 "cells": [
  {
   "cell_type": "code",
   "execution_count": 19,
   "metadata": {},
   "outputs": [],
   "source": [
    "from sentence_transformers import SentenceTransformer\n",
    "\n",
    "\n",
    "embedder_model = SentenceTransformer('BAAI/llm-embedder')\n",
    "\n",
    "def embed_sentence(embedder_model: SentenceTransformer, sentence: str) -> list[float]:\n",
    "    return embedder_model.encode(sentence, output_value=\"sentence_embedding\", normalize_embeddings=True).tolist()"
   ]
  },
  {
   "cell_type": "code",
   "execution_count": 20,
   "metadata": {},
   "outputs": [],
   "source": [
    "import re\n",
    "\n",
    "def parse_faq_file(filepath: str) -> list[str]:\n",
    "    with open(filepath, \"r\") as f:\n",
    "        faq_data = f.read()\n",
    "\n",
    "    pattern = re.compile(r'Q:(.*)\\nA:(.*)')\n",
    "    parsed_faq_data = re.findall(pattern , faq_data)\n",
    "\n",
    "    refactored_faq_data = [f\"question:{question.strip().lower()} answer:{answer.strip().lower()}\" for question, answer in parsed_faq_data]\n",
    "    return refactored_faq_data\n",
    "\n",
    "faq_path = \"data/Anadea homework -Tee Customizer FAQ.txt\"\n",
    "faq_data = parse_faq_file(faq_path)"
   ]
  },
  {
   "cell_type": "code",
   "execution_count": 41,
   "metadata": {},
   "outputs": [],
   "source": [
    "import chromadb\n",
    "\n",
    "# Initialize ChromaDB\n",
    "chroma_client = chromadb.PersistentClient(path=\"../chroma_db\")  # Persistent storage\n",
    "chroma_client.delete_collection(\"faq_collection\")\n",
    "collection = chroma_client.get_or_create_collection(name=\"faq_collection\")\n",
    "\n",
    "\n",
    "# Store in ChromaDB\n",
    "for i, qa in enumerate(faq_data):\n",
    "    embedding = embed_sentence(embedder_model, qa)\n",
    "    collection.add(\n",
    "        ids=str(i),\n",
    "        embeddings=embedding,\n",
    "        documents=qa\n",
    "    )"
   ]
  },
  {
   "cell_type": "code",
   "execution_count": 58,
   "metadata": {},
   "outputs": [],
   "source": [
    "def retrieve_answer(embedder_model: SentenceTransformer, collection: chromadb.Collection, query: str, n_results=3) -> list[tuple[str, float]]:\n",
    "    query_embedding = embedder_model.encode(query.strip().lower(), normalize_embeddings=True).tolist()\n",
    "    closest_documents = collection.query(query_embeddings=query_embedding, n_results=n_results, include=[\"documents\", \"distances\"])\n",
    "    return [pair for pair in zip(closest_documents[\"documents\"][0], closest_documents[\"distances\"][0])]\n",
    "\n"
   ]
  },
  {
   "cell_type": "code",
   "execution_count": 59,
   "metadata": {},
   "outputs": [],
   "source": [
    "query = \"How can i change the color of the t-shirt?\"\n",
    "\n",
    "retrieved_answers = retrieve_answer(embedder_model, collection, query)"
   ]
  },
  {
   "cell_type": "code",
   "execution_count": 61,
   "metadata": {},
   "outputs": [],
   "source": [
    "context = \"\"\n",
    "for i in retrieved_answers:\n",
    "    context += i[0] + \"\\n\""
   ]
  },
  {
   "cell_type": "code",
   "execution_count": 63,
   "metadata": {},
   "outputs": [
    {
     "name": "stdout",
     "output_type": "stream",
     "text": [
      "question:can i add my own design to the t-shirt? answer:yes, you can upload your design or choose from our library of designs.\n",
      "question:how do i care for my custom t-shirt? answer:we recommend washing your t-shirt inside out in cold water and tumble drying on low to preserve the print.\n",
      "question:can i order matching t-shirts for an event? answer:yes, you can design and order matching t-shirts for events, teams, and groups.\n",
      "\n"
     ]
    }
   ],
   "source": [
    "print(context)"
   ]
  }
 ],
 "metadata": {
  "kernelspec": {
   "display_name": ".venv",
   "language": "python",
   "name": "python3"
  },
  "language_info": {
   "codemirror_mode": {
    "name": "ipython",
    "version": 3
   },
   "file_extension": ".py",
   "mimetype": "text/x-python",
   "name": "python",
   "nbconvert_exporter": "python",
   "pygments_lexer": "ipython3",
   "version": "3.12.8"
  }
 },
 "nbformat": 4,
 "nbformat_minor": 2
}
